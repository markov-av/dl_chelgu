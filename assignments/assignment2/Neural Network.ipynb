{
 "cells": [
  {
   "cell_type": "markdown",
   "metadata": {},
   "source": [
    "# Задание 2.1 - Нейронные сети\n",
    "\n",
    "В этом задании вы реализуете и натренируете настоящую нейроную сеть своими руками!\n",
    "\n",
    "В некотором смысле это будет расширением прошлого задания - нам нужно просто составить несколько линейных классификаторов вместе!\n",
    "\n",
    "<img src=\"https://i.redd.it/n9fgba8b0qr01.png\" alt=\"Stack_more_layers\" width=\"400px\"/>"
   ]
  },
  {
   "cell_type": "code",
   "execution_count": 1,
   "metadata": {},
   "outputs": [],
   "source": [
    "import numpy as np\n",
    "import matplotlib.pyplot as plt\n",
    "\n",
    "%matplotlib inline\n",
    "\n",
    "%load_ext autoreload\n",
    "%autoreload 2"
   ]
  },
  {
   "cell_type": "code",
   "execution_count": 2,
   "metadata": {},
   "outputs": [],
   "source": [
    "from dataset import load_svhn, random_split_train_val\n",
    "from gradient_check import check_layer_gradient, check_layer_param_gradient, check_model_gradient\n",
    "from layers import FullyConnectedLayer, ReLULayer\n",
    "from model import TwoLayerNet\n",
    "from trainer import Trainer, Dataset\n",
    "from optim import SGD, MomentumSGD\n",
    "from metrics import multiclass_accuracy"
   ]
  },
  {
   "cell_type": "markdown",
   "metadata": {},
   "source": [
    "# Загружаем данные\n",
    "\n",
    "И разделяем их на training и validation."
   ]
  },
  {
   "cell_type": "code",
   "execution_count": 3,
   "metadata": {},
   "outputs": [],
   "source": [
    "def prepare_for_neural_network(train_X, test_X):\n",
    "    train_flat = train_X.reshape(train_X.shape[0], -1).astype(np.float) / 255.0\n",
    "    test_flat = test_X.reshape(test_X.shape[0], -1).astype(np.float) / 255.0\n",
    "    \n",
    "    # Subtract mean\n",
    "    mean_image = np.mean(train_flat, axis = 0)\n",
    "    train_flat -= mean_image\n",
    "    test_flat -= mean_image\n",
    "    \n",
    "    return train_flat, test_flat\n",
    "    \n",
    "train_X, train_y, test_X, test_y = load_svhn(\"data\", max_train=10000, max_test=1000)    \n",
    "train_X, test_X = prepare_for_neural_network(train_X, test_X)\n",
    "# Split train into train and val\n",
    "train_X, train_y, val_X, val_y = random_split_train_val(train_X, train_y, num_val = 1000)"
   ]
  },
  {
   "cell_type": "markdown",
   "metadata": {},
   "source": [
    "# Как всегда, начинаем с кирпичиков\n",
    "\n",
    "Мы будем реализовывать необходимые нам слои по очереди. Каждый слой должен реализовать:\n",
    "- прямой проход (forward pass), который генерирует выход слоя по входу и запоминает необходимые данные\n",
    "- обратный проход (backward pass), который получает градиент по выходу слоя и вычисляет градиент по входу и по параметрам\n",
    "\n",
    "Начнем с ReLU, у которого параметров нет."
   ]
  },
  {
   "cell_type": "code",
   "execution_count": 4,
   "metadata": {
    "scrolled": false
   },
   "outputs": [
    {
     "name": "stdout",
     "output_type": "stream",
     "text": [
      "Gradient check passed!\n"
     ]
    }
   ],
   "source": [
    "# TODO: Implement ReLULayer layer in layers.py\n",
    "# Note: you'll need to copy implementation of the gradient_check function from the previous assignment\n",
    "\n",
    "X = np.array([[1,-2,3],\n",
    "              [-1, 2, 0.1]\n",
    "              ])\n",
    "\n",
    "assert check_layer_gradient(ReLULayer(), X)"
   ]
  },
  {
   "cell_type": "markdown",
   "metadata": {},
   "source": [
    "А теперь реализуем полносвязный слой (fully connected layer), у которого будет два массива параметров: W (weights) и B (bias).\n",
    "\n",
    "Все параметры наши слои будут использовать для параметров специальный класс `Param`, в котором будут храниться значения параметров и градиенты этих параметров, вычисляемые во время обратного прохода.\n",
    "\n",
    "Это даст возможность аккумулировать (суммировать) градиенты из разных частей функции потерь, например, из cross-entropy loss и regularization loss."
   ]
  },
  {
   "cell_type": "code",
   "execution_count": 5,
   "metadata": {},
   "outputs": [
    {
     "name": "stdout",
     "output_type": "stream",
     "text": [
      "Gradient check passed!\n",
      "Gradient check passed!\n",
      "Gradient check passed!\n"
     ]
    }
   ],
   "source": [
    "# TODO: Implement FullyConnected layer forward and backward methods\n",
    "assert check_layer_gradient(FullyConnectedLayer(3, 4), X)\n",
    "# TODO: Implement storing gradients for W and B\n",
    "assert check_layer_param_gradient(FullyConnectedLayer(3, 4), X, 'W')\n",
    "assert check_layer_param_gradient(FullyConnectedLayer(3, 4), X, 'B')"
   ]
  },
  {
   "cell_type": "markdown",
   "metadata": {},
   "source": [
    "## Создаем нейронную сеть\n",
    "\n",
    "Теперь мы реализуем простейшую нейронную сеть с двумя полносвязным слоями и нелинейностью ReLU. Реализуйте функцию `compute_loss_and_gradients`, она должна запустить прямой и обратный проход через оба слоя для вычисления градиентов.\n",
    "\n",
    "Не забудьте реализовать очистку градиентов в начале функции."
   ]
  },
  {
   "cell_type": "code",
   "execution_count": 6,
   "metadata": {},
   "outputs": [
    {
     "name": "stdout",
     "output_type": "stream",
     "text": [
      "Checking gradient for (0, 'W')\n",
      "Gradient check passed!\n",
      "Checking gradient for (0, 'B')\n",
      "Gradient check passed!\n",
      "Checking gradient for (2, 'W')\n",
      "Gradient check passed!\n",
      "Checking gradient for (2, 'B')\n",
      "Gradient check passed!\n"
     ]
    },
    {
     "data": {
      "text/plain": [
       "True"
      ]
     },
     "execution_count": 6,
     "metadata": {},
     "output_type": "execute_result"
    }
   ],
   "source": [
    "# TODO: In model.py, implement compute_loss_and_gradients function\n",
    "model = TwoLayerNet(n_input = train_X.shape[1], n_output = 10, hidden_layer_size = 3, reg = 0)\n",
    "loss = model.compute_loss_and_gradients(train_X[:2], train_y[:2])\n",
    "\n",
    "# TODO Now implement backward pass and aggregate all of the params\n",
    "check_model_gradient(model, train_X[:2], train_y[:2])"
   ]
  },
  {
   "cell_type": "markdown",
   "metadata": {},
   "source": [
    "Теперь добавьте к модели регуляризацию - она должна прибавляться к loss и делать свой вклад в градиенты."
   ]
  },
  {
   "cell_type": "code",
   "execution_count": 7,
   "metadata": {},
   "outputs": [
    {
     "name": "stdout",
     "output_type": "stream",
     "text": [
      "Checking gradient for (0, 'W')\n",
      "Gradient check passed!\n",
      "Checking gradient for (0, 'B')\n",
      "Gradient check passed!\n",
      "Checking gradient for (2, 'W')\n",
      "Gradient check passed!\n",
      "Checking gradient for (2, 'B')\n",
      "Gradient check passed!\n"
     ]
    },
    {
     "data": {
      "text/plain": [
       "True"
      ]
     },
     "execution_count": 7,
     "metadata": {},
     "output_type": "execute_result"
    }
   ],
   "source": [
    "# TODO Now implement l2 regularization in the forward and backward pass\n",
    "model_with_reg = TwoLayerNet(n_input = train_X.shape[1], n_output = 10, hidden_layer_size = 3, reg = 1e1)\n",
    "loss_with_reg = model_with_reg.compute_loss_and_gradients(train_X[:2], train_y[:2])\n",
    "assert loss_with_reg > loss and not np.isclose(loss_with_reg, loss), \\\n",
    "    \"Loss with regularization (%2.4f) should be higher than without it (%2.4f)!\" % (loss, loss_with_reg)\n",
    "\n",
    "check_model_gradient(model_with_reg, train_X[:2], train_y[:2])"
   ]
  },
  {
   "cell_type": "markdown",
   "metadata": {},
   "source": [
    "Также реализуем функцию предсказания (вычисления значения) модели на новых данных.\n",
    "\n",
    "Какое значение точности мы ожидаем увидеть до начала тренировки?"
   ]
  },
  {
   "cell_type": "code",
   "execution_count": 8,
   "metadata": {},
   "outputs": [
    {
     "data": {
      "text/plain": [
       "0.1"
      ]
     },
     "execution_count": 8,
     "metadata": {},
     "output_type": "execute_result"
    }
   ],
   "source": [
    "# Finally, implement predict function!\n",
    "\n",
    "# TODO: Implement predict function\n",
    "# What would be the value we expect?\n",
    "multiclass_accuracy(model_with_reg.predict(train_X[:30]), train_y[:30])"
   ]
  },
  {
   "cell_type": "markdown",
   "metadata": {},
   "source": [
    "# Допишем код для процесса тренировки\n",
    "\n",
    "Если все реализовано корректно, значение функции ошибки должно уменьшаться с каждой эпохой, пусть и медленно. Не беспокойтесь пока про validation accuracy."
   ]
  },
  {
   "cell_type": "code",
   "execution_count": 10,
   "metadata": {},
   "outputs": [
    {
     "name": "stdout",
     "output_type": "stream",
     "text": [
      "Loss: 47.341609, Train accuracy: 0.196667, val accuracy: 0.206000\n",
      "Loss: 44.473126, Train accuracy: 0.196667, val accuracy: 0.206000\n",
      "Loss: 45.973282, Train accuracy: 0.196667, val accuracy: 0.206000\n",
      "Loss: 47.522806, Train accuracy: 0.196667, val accuracy: 0.206000\n",
      "Loss: 43.578258, Train accuracy: 0.196667, val accuracy: 0.206000\n",
      "Loss: 42.038198, Train accuracy: 0.196667, val accuracy: 0.206000\n",
      "Loss: 42.353636, Train accuracy: 0.196667, val accuracy: 0.206000\n",
      "Loss: 48.356563, Train accuracy: 0.196667, val accuracy: 0.206000\n",
      "Loss: 45.452776, Train accuracy: 0.196667, val accuracy: 0.206000\n",
      "Loss: 44.827179, Train accuracy: 0.196667, val accuracy: 0.206000\n",
      "Loss: 40.187914, Train accuracy: 0.196667, val accuracy: 0.206000\n",
      "Loss: 42.938910, Train accuracy: 0.196667, val accuracy: 0.206000\n",
      "Loss: 44.466725, Train accuracy: 0.196667, val accuracy: 0.206000\n"
     ]
    },
    {
     "ename": "KeyboardInterrupt",
     "evalue": "",
     "output_type": "error",
     "traceback": [
      "\u001b[0;31m---------------------------------------------------------------------------\u001b[0m",
      "\u001b[0;31mKeyboardInterrupt\u001b[0m                         Traceback (most recent call last)",
      "\u001b[0;32m<ipython-input-10-f4364dceba81>\u001b[0m in \u001b[0;36m<module>\u001b[0;34m\u001b[0m\n\u001b[1;32m      5\u001b[0m \u001b[0;31m# TODO Implement missing pieces in Trainer.fit function\u001b[0m\u001b[0;34m\u001b[0m\u001b[0;34m\u001b[0m\u001b[0;34m\u001b[0m\u001b[0m\n\u001b[1;32m      6\u001b[0m \u001b[0;31m# You should expect loss to go down every epoch, even if it's slow\u001b[0m\u001b[0;34m\u001b[0m\u001b[0;34m\u001b[0m\u001b[0;34m\u001b[0m\u001b[0m\n\u001b[0;32m----> 7\u001b[0;31m \u001b[0mloss_history\u001b[0m\u001b[0;34m,\u001b[0m \u001b[0mtrain_history\u001b[0m\u001b[0;34m,\u001b[0m \u001b[0mval_history\u001b[0m \u001b[0;34m=\u001b[0m \u001b[0mtrainer\u001b[0m\u001b[0;34m.\u001b[0m\u001b[0mfit\u001b[0m\u001b[0;34m(\u001b[0m\u001b[0;34m)\u001b[0m\u001b[0;34m\u001b[0m\u001b[0;34m\u001b[0m\u001b[0m\n\u001b[0m",
      "\u001b[0;32m~/PycharmProjects/dl_chelgu/assignments/assignment2/trainer.py\u001b[0m in \u001b[0;36mfit\u001b[0;34m(self)\u001b[0m\n\u001b[1;32m    105\u001b[0m                 \u001b[0;32mfor\u001b[0m \u001b[0mparam_name\u001b[0m\u001b[0;34m,\u001b[0m \u001b[0mparam\u001b[0m \u001b[0;32min\u001b[0m \u001b[0mself\u001b[0m\u001b[0;34m.\u001b[0m\u001b[0mmodel\u001b[0m\u001b[0;34m.\u001b[0m\u001b[0mparams\u001b[0m\u001b[0;34m(\u001b[0m\u001b[0;34m)\u001b[0m\u001b[0;34m.\u001b[0m\u001b[0mitems\u001b[0m\u001b[0;34m(\u001b[0m\u001b[0;34m)\u001b[0m\u001b[0;34m:\u001b[0m\u001b[0;34m\u001b[0m\u001b[0;34m\u001b[0m\u001b[0m\n\u001b[1;32m    106\u001b[0m                     \u001b[0moptimizer\u001b[0m \u001b[0;34m=\u001b[0m \u001b[0mself\u001b[0m\u001b[0;34m.\u001b[0m\u001b[0moptimizers\u001b[0m\u001b[0;34m[\u001b[0m\u001b[0mparam_name\u001b[0m\u001b[0;34m]\u001b[0m\u001b[0;34m\u001b[0m\u001b[0;34m\u001b[0m\u001b[0m\n\u001b[0;32m--> 107\u001b[0;31m                     \u001b[0mparam\u001b[0m\u001b[0;34m.\u001b[0m\u001b[0mvalue\u001b[0m \u001b[0;34m=\u001b[0m \u001b[0moptimizer\u001b[0m\u001b[0;34m.\u001b[0m\u001b[0mupdate\u001b[0m\u001b[0;34m(\u001b[0m\u001b[0mparam\u001b[0m\u001b[0;34m.\u001b[0m\u001b[0mvalue\u001b[0m\u001b[0;34m,\u001b[0m \u001b[0mparam\u001b[0m\u001b[0;34m.\u001b[0m\u001b[0mgrad\u001b[0m\u001b[0;34m,\u001b[0m \u001b[0mself\u001b[0m\u001b[0;34m.\u001b[0m\u001b[0mlearning_rate\u001b[0m\u001b[0;34m)\u001b[0m\u001b[0;34m\u001b[0m\u001b[0;34m\u001b[0m\u001b[0m\n\u001b[0m\u001b[1;32m    108\u001b[0m \u001b[0;34m\u001b[0m\u001b[0m\n\u001b[1;32m    109\u001b[0m                 \u001b[0mbatch_losses\u001b[0m\u001b[0;34m.\u001b[0m\u001b[0mappend\u001b[0m\u001b[0;34m(\u001b[0m\u001b[0mloss\u001b[0m\u001b[0;34m)\u001b[0m\u001b[0;34m\u001b[0m\u001b[0;34m\u001b[0m\u001b[0m\n",
      "\u001b[0;32m~/PycharmProjects/dl_chelgu/assignments/assignment2/optim.py\u001b[0m in \u001b[0;36mupdate\u001b[0;34m(self, w, d_w, learning_rate)\u001b[0m\n\u001b[1;32m     18\u001b[0m         \u001b[0mupdated_weights\u001b[0m\u001b[0;34m,\u001b[0m \u001b[0mnp\u001b[0m \u001b[0marray\u001b[0m \u001b[0msame\u001b[0m \u001b[0mshape\u001b[0m \u001b[0;32mas\u001b[0m \u001b[0mw\u001b[0m\u001b[0;34m\u001b[0m\u001b[0;34m\u001b[0m\u001b[0m\n\u001b[1;32m     19\u001b[0m         \"\"\"\n\u001b[0;32m---> 20\u001b[0;31m         \u001b[0;32mreturn\u001b[0m \u001b[0mw\u001b[0m \u001b[0;34m-\u001b[0m \u001b[0md_w\u001b[0m \u001b[0;34m*\u001b[0m \u001b[0mlearning_rate\u001b[0m\u001b[0;34m\u001b[0m\u001b[0;34m\u001b[0m\u001b[0m\n\u001b[0m\u001b[1;32m     21\u001b[0m \u001b[0;34m\u001b[0m\u001b[0m\n\u001b[1;32m     22\u001b[0m \u001b[0;34m\u001b[0m\u001b[0m\n",
      "\u001b[0;31mKeyboardInterrupt\u001b[0m: "
     ]
    }
   ],
   "source": [
    "model = TwoLayerNet(n_input = train_X.shape[1], n_output = 10, hidden_layer_size = 100, reg = 1e1)\n",
    "dataset = Dataset(train_X, train_y, val_X, val_y)\n",
    "trainer = Trainer(model, dataset, SGD(), learning_rate = 1e-2)\n",
    "\n",
    "# TODO Implement missing pieces in Trainer.fit function\n",
    "# You should expect loss to go down every epoch, even if it's slow\n",
    "loss_history, train_history, val_history = trainer.fit()"
   ]
  },
  {
   "cell_type": "code",
   "execution_count": 11,
   "metadata": {},
   "outputs": [
    {
     "ename": "NameError",
     "evalue": "name 'train_history' is not defined",
     "output_type": "error",
     "traceback": [
      "\u001b[0;31m---------------------------------------------------------------------------\u001b[0m",
      "\u001b[0;31mNameError\u001b[0m                                 Traceback (most recent call last)",
      "\u001b[0;32m<ipython-input-11-3fe3f7db033e>\u001b[0m in \u001b[0;36m<module>\u001b[0;34m\u001b[0m\n\u001b[0;32m----> 1\u001b[0;31m \u001b[0mplt\u001b[0m\u001b[0;34m.\u001b[0m\u001b[0mplot\u001b[0m\u001b[0;34m(\u001b[0m\u001b[0mtrain_history\u001b[0m\u001b[0;34m)\u001b[0m\u001b[0;34m\u001b[0m\u001b[0;34m\u001b[0m\u001b[0m\n\u001b[0m\u001b[1;32m      2\u001b[0m \u001b[0mplt\u001b[0m\u001b[0;34m.\u001b[0m\u001b[0mplot\u001b[0m\u001b[0;34m(\u001b[0m\u001b[0mval_history\u001b[0m\u001b[0;34m)\u001b[0m\u001b[0;34m\u001b[0m\u001b[0;34m\u001b[0m\u001b[0m\n",
      "\u001b[0;31mNameError\u001b[0m: name 'train_history' is not defined"
     ]
    }
   ],
   "source": [
    "plt.plot(train_history)\n",
    "plt.plot(val_history)"
   ]
  },
  {
   "cell_type": "markdown",
   "metadata": {},
   "source": [
    "# Улучшаем процесс тренировки\n",
    "\n",
    "Мы реализуем несколько ключевых оптимизаций, необходимых для тренировки современных нейросетей."
   ]
  },
  {
   "cell_type": "markdown",
   "metadata": {},
   "source": [
    "## Уменьшение скорости обучения (learning rate decay)\n",
    "\n",
    "Одна из необходимых оптимизаций во время тренировки нейронных сетей - постепенное уменьшение скорости обучения по мере тренировки.\n",
    "\n",
    "Один из стандартных методов - уменьшение скорости обучения (learning rate) каждые N эпох на коэффициент d (часто называемый decay). Значения N и d, как всегда, являются гиперпараметрами и должны подбираться на основе эффективности на проверочных данных (validation data). \n",
    "\n",
    "В нашем случае N будет равным 1."
   ]
  },
  {
   "cell_type": "code",
   "execution_count": 13,
   "metadata": {},
   "outputs": [
    {
     "name": "stdout",
     "output_type": "stream",
     "text": [
      "Loss: 45.651337, Train accuracy: 0.303000, val accuracy: 0.317000\n",
      "Loss: 30.915822, Train accuracy: 0.443889, val accuracy: 0.457000\n",
      "Loss: 40.631597, Train accuracy: 0.528000, val accuracy: 0.523000\n",
      "Loss: 42.477029, Train accuracy: 0.580000, val accuracy: 0.579000\n",
      "Loss: 33.041292, Train accuracy: 0.570111, val accuracy: 0.578000\n",
      "Loss: 42.907045, Train accuracy: 0.618111, val accuracy: 0.605000\n",
      "Loss: 31.517660, Train accuracy: 0.593778, val accuracy: 0.600000\n",
      "Loss: 40.919899, Train accuracy: 0.618889, val accuracy: 0.610000\n",
      "Loss: 38.654001, Train accuracy: 0.565222, val accuracy: 0.564000\n",
      "Loss: 38.563871, Train accuracy: 0.608778, val accuracy: 0.587000\n",
      "Loss: 30.860352, Train accuracy: 0.605778, val accuracy: 0.608000\n",
      "Loss: 30.110198, Train accuracy: 0.616889, val accuracy: 0.587000\n",
      "Loss: 34.079790, Train accuracy: 0.600111, val accuracy: 0.582000\n",
      "Loss: 32.118741, Train accuracy: 0.632000, val accuracy: 0.622000\n",
      "Loss: 32.822397, Train accuracy: 0.646778, val accuracy: 0.626000\n",
      "Loss: 39.731717, Train accuracy: 0.593556, val accuracy: 0.581000\n",
      "Loss: 39.077067, Train accuracy: 0.638111, val accuracy: 0.622000\n",
      "Loss: 25.981403, Train accuracy: 0.610111, val accuracy: 0.593000\n",
      "Loss: 33.843428, Train accuracy: 0.594667, val accuracy: 0.593000\n",
      "Loss: 29.638517, Train accuracy: 0.637444, val accuracy: 0.613000\n"
     ]
    }
   ],
   "source": [
    "# TODO Implement learning rate decay inside Trainer.fit method\n",
    "# Decay should happen once per epoch\n",
    "\n",
    "model = TwoLayerNet(n_input = train_X.shape[1], n_output = 10, hidden_layer_size = 100, reg = 1e-1)\n",
    "dataset = Dataset(train_X, train_y, val_X, val_y)\n",
    "trainer = Trainer(model, dataset, SGD(), learning_rate_decay=0.99)\n",
    "\n",
    "initial_learning_rate = trainer.learning_rate\n",
    "loss_history, train_history, val_history = trainer.fit()\n",
    "\n",
    "assert trainer.learning_rate < initial_learning_rate, \"Learning rate should've been reduced\"\n",
    "assert trainer.learning_rate > 0.5*initial_learning_rate, \"Learning rate shouldn'tve been reduced that much!\""
   ]
  },
  {
   "cell_type": "markdown",
   "metadata": {},
   "source": [
    "# Накопление импульса (Momentum SGD)\n",
    "\n",
    "Другой большой класс оптимизаций - использование более эффективных методов градиентного спуска. Мы реализуем один из них - накопление импульса (Momentum SGD).\n",
    "\n",
    "Этот метод хранит скорость движения, использует градиент для ее изменения на каждом шаге, и изменяет веса пропорционально значению скорости.\n",
    "(Физическая аналогия: Вместо скорости градиенты теперь будут задавать ускорение, но будет присутствовать сила трения.)\n",
    "\n",
    "```\n",
    "velocity = momentum * velocity - learning_rate * gradient \n",
    "w = w + velocity\n",
    "```\n",
    "\n",
    "`momentum` здесь коэффициент затухания, который тоже является гиперпараметром (к счастью, для него часто есть хорошее значение по умолчанию, типичный диапазон -- 0.8-0.99).\n",
    "\n",
    "Несколько полезных ссылок, где метод разбирается более подробно:  \n",
    "http://cs231n.github.io/neural-networks-3/#sgd  \n",
    "https://distill.pub/2017/momentum/"
   ]
  },
  {
   "cell_type": "code",
   "execution_count": 25,
   "metadata": {},
   "outputs": [
    {
     "name": "stdout",
     "output_type": "stream",
     "text": [
      "Loss: 42.255041, Train accuracy: 0.196667, val accuracy: 0.206000\n",
      "Loss: 44.632810, Train accuracy: 0.196667, val accuracy: 0.206000\n",
      "Loss: 44.201648, Train accuracy: 0.196667, val accuracy: 0.206000\n",
      "Loss: 46.693053, Train accuracy: 0.196667, val accuracy: 0.206000\n",
      "Loss: 41.725760, Train accuracy: 0.199889, val accuracy: 0.204000\n",
      "Loss: 44.811604, Train accuracy: 0.247000, val accuracy: 0.244000\n",
      "Loss: 40.164121, Train accuracy: 0.264444, val accuracy: 0.265000\n",
      "Loss: 38.169868, Train accuracy: 0.282000, val accuracy: 0.284000\n",
      "Loss: 36.625887, Train accuracy: 0.341778, val accuracy: 0.340000\n",
      "Loss: 36.912263, Train accuracy: 0.387667, val accuracy: 0.377000\n",
      "Loss: 38.782043, Train accuracy: 0.427222, val accuracy: 0.410000\n",
      "Loss: 35.186061, Train accuracy: 0.448778, val accuracy: 0.444000\n",
      "Loss: 37.494534, Train accuracy: 0.482000, val accuracy: 0.478000\n",
      "Loss: 30.096313, Train accuracy: 0.505556, val accuracy: 0.493000\n",
      "Loss: 27.949340, Train accuracy: 0.533556, val accuracy: 0.529000\n",
      "Loss: 27.338039, Train accuracy: 0.560444, val accuracy: 0.547000\n",
      "Loss: 35.417836, Train accuracy: 0.577333, val accuracy: 0.554000\n",
      "Loss: 30.417320, Train accuracy: 0.601889, val accuracy: 0.584000\n",
      "Loss: 33.262425, Train accuracy: 0.618222, val accuracy: 0.600000\n",
      "Loss: 34.612991, Train accuracy: 0.624333, val accuracy: 0.607000\n"
     ]
    }
   ],
   "source": [
    "# TODO: Implement MomentumSGD.update function in optim.py\n",
    "\n",
    "model = TwoLayerNet(n_input = train_X.shape[1], n_output = 10, hidden_layer_size = 100, reg = 1e-1)\n",
    "dataset = Dataset(train_X, train_y, val_X, val_y)\n",
    "trainer = Trainer(model, dataset, MomentumSGD(), learning_rate=1e-4, learning_rate_decay=0.99)\n",
    "\n",
    "# You should see even better results than before!\n",
    "loss_history, train_history, val_history = trainer.fit()"
   ]
  },
  {
   "cell_type": "markdown",
   "metadata": {},
   "source": [
    "# Ну что, давайте уже тренировать сеть!"
   ]
  },
  {
   "cell_type": "markdown",
   "metadata": {},
   "source": [
    "## Последний тест - переобучимся (overfit) на маленьком наборе данных\n",
    "\n",
    "Хороший способ проверить, все ли реализовано корректно - переобучить сеть на маленьком наборе данных.  \n",
    "Наша модель обладает достаточной мощностью, чтобы приблизить маленький набор данных идеально, поэтому мы ожидаем, что на нем мы быстро дойдем до 100% точности на тренировочном наборе. \n",
    "\n",
    "Если этого не происходит, то где-то была допущена ошибка!"
   ]
  },
  {
   "cell_type": "code",
   "execution_count": 29,
   "metadata": {},
   "outputs": [
    {
     "name": "stdout",
     "output_type": "stream",
     "text": [
      "Loss: 11.550582, Train accuracy: 0.200000, val accuracy: 0.066667\n",
      "Loss: 11.515957, Train accuracy: 0.200000, val accuracy: 0.066667\n",
      "Loss: 11.439084, Train accuracy: 0.200000, val accuracy: 0.066667\n",
      "Loss: 11.489412, Train accuracy: 0.266667, val accuracy: 0.066667\n",
      "Loss: 11.412109, Train accuracy: 0.333333, val accuracy: 0.066667\n",
      "Loss: 11.420920, Train accuracy: 0.266667, val accuracy: 0.066667\n",
      "Loss: 11.398946, Train accuracy: 0.200000, val accuracy: 0.000000\n",
      "Loss: 11.291531, Train accuracy: 0.266667, val accuracy: 0.000000\n",
      "Loss: 11.412837, Train accuracy: 0.266667, val accuracy: 0.000000\n",
      "Loss: 11.277080, Train accuracy: 0.266667, val accuracy: 0.000000\n",
      "Loss: 11.037072, Train accuracy: 0.266667, val accuracy: 0.000000\n",
      "Loss: 10.879907, Train accuracy: 0.266667, val accuracy: 0.000000\n",
      "Loss: 11.086131, Train accuracy: 0.266667, val accuracy: 0.000000\n",
      "Loss: 11.131279, Train accuracy: 0.266667, val accuracy: 0.000000\n",
      "Loss: 11.465824, Train accuracy: 0.333333, val accuracy: 0.000000\n",
      "Loss: 10.872207, Train accuracy: 0.400000, val accuracy: 0.000000\n",
      "Loss: 9.622380, Train accuracy: 0.400000, val accuracy: 0.000000\n",
      "Loss: 9.020285, Train accuracy: 0.400000, val accuracy: 0.000000\n",
      "Loss: 8.887432, Train accuracy: 0.400000, val accuracy: 0.000000\n",
      "Loss: 7.491596, Train accuracy: 0.400000, val accuracy: 0.000000\n",
      "Loss: 11.686070, Train accuracy: 0.400000, val accuracy: 0.000000\n",
      "Loss: 9.879702, Train accuracy: 0.400000, val accuracy: 0.000000\n",
      "Loss: 8.748629, Train accuracy: 0.400000, val accuracy: 0.000000\n",
      "Loss: 9.663924, Train accuracy: 0.400000, val accuracy: 0.000000\n",
      "Loss: 7.865015, Train accuracy: 0.333333, val accuracy: 0.000000\n",
      "Loss: 9.062264, Train accuracy: 0.333333, val accuracy: 0.000000\n",
      "Loss: 10.933717, Train accuracy: 0.400000, val accuracy: 0.000000\n",
      "Loss: 7.114063, Train accuracy: 0.400000, val accuracy: 0.000000\n",
      "Loss: 8.140727, Train accuracy: 0.400000, val accuracy: 0.000000\n",
      "Loss: 10.298406, Train accuracy: 0.400000, val accuracy: 0.000000\n",
      "Loss: 8.310995, Train accuracy: 0.400000, val accuracy: 0.000000\n",
      "Loss: 7.836361, Train accuracy: 0.400000, val accuracy: 0.000000\n",
      "Loss: 7.250730, Train accuracy: 0.400000, val accuracy: 0.000000\n",
      "Loss: 7.736010, Train accuracy: 0.400000, val accuracy: 0.000000\n",
      "Loss: 8.261726, Train accuracy: 0.400000, val accuracy: 0.000000\n",
      "Loss: 7.325885, Train accuracy: 0.466667, val accuracy: 0.000000\n",
      "Loss: 10.502455, Train accuracy: 0.466667, val accuracy: 0.066667\n",
      "Loss: 10.069833, Train accuracy: 0.466667, val accuracy: 0.066667\n",
      "Loss: 5.852892, Train accuracy: 0.466667, val accuracy: 0.000000\n",
      "Loss: 4.698318, Train accuracy: 0.466667, val accuracy: 0.000000\n",
      "Loss: 6.909399, Train accuracy: 0.466667, val accuracy: 0.000000\n",
      "Loss: 5.136149, Train accuracy: 0.466667, val accuracy: 0.000000\n",
      "Loss: 4.634728, Train accuracy: 0.466667, val accuracy: 0.066667\n",
      "Loss: 6.514287, Train accuracy: 0.533333, val accuracy: 0.066667\n",
      "Loss: 6.077571, Train accuracy: 0.466667, val accuracy: 0.066667\n",
      "Loss: 10.071033, Train accuracy: 0.533333, val accuracy: 0.066667\n",
      "Loss: 6.769402, Train accuracy: 0.600000, val accuracy: 0.066667\n",
      "Loss: 6.283367, Train accuracy: 0.600000, val accuracy: 0.066667\n",
      "Loss: 4.796894, Train accuracy: 0.600000, val accuracy: 0.066667\n",
      "Loss: 6.991477, Train accuracy: 0.600000, val accuracy: 0.066667\n",
      "Loss: 3.596598, Train accuracy: 0.600000, val accuracy: 0.066667\n",
      "Loss: 5.569371, Train accuracy: 0.666667, val accuracy: 0.066667\n",
      "Loss: 5.569710, Train accuracy: 0.666667, val accuracy: 0.066667\n",
      "Loss: 6.880286, Train accuracy: 0.666667, val accuracy: 0.066667\n",
      "Loss: 6.523809, Train accuracy: 0.666667, val accuracy: 0.066667\n",
      "Loss: 7.401745, Train accuracy: 0.800000, val accuracy: 0.066667\n",
      "Loss: 4.509450, Train accuracy: 0.733333, val accuracy: 0.066667\n",
      "Loss: 5.853585, Train accuracy: 0.800000, val accuracy: 0.066667\n",
      "Loss: 5.781880, Train accuracy: 0.800000, val accuracy: 0.066667\n",
      "Loss: 4.453080, Train accuracy: 0.800000, val accuracy: 0.066667\n",
      "Loss: 8.916950, Train accuracy: 0.800000, val accuracy: 0.066667\n",
      "Loss: 5.586666, Train accuracy: 0.800000, val accuracy: 0.066667\n",
      "Loss: 4.941654, Train accuracy: 0.800000, val accuracy: 0.066667\n",
      "Loss: 6.404442, Train accuracy: 0.800000, val accuracy: 0.066667\n",
      "Loss: 3.988053, Train accuracy: 0.800000, val accuracy: 0.066667\n",
      "Loss: 3.196307, Train accuracy: 0.800000, val accuracy: 0.066667\n",
      "Loss: 3.562302, Train accuracy: 0.800000, val accuracy: 0.066667\n",
      "Loss: 4.072730, Train accuracy: 0.800000, val accuracy: 0.066667\n",
      "Loss: 1.641971, Train accuracy: 0.800000, val accuracy: 0.066667\n",
      "Loss: 1.989710, Train accuracy: 0.800000, val accuracy: 0.066667\n",
      "Loss: 4.083388, Train accuracy: 0.800000, val accuracy: 0.066667\n",
      "Loss: 4.365193, Train accuracy: 0.800000, val accuracy: 0.066667\n",
      "Loss: 3.921467, Train accuracy: 0.800000, val accuracy: 0.066667\n",
      "Loss: 3.586703, Train accuracy: 0.800000, val accuracy: 0.066667\n",
      "Loss: 4.291141, Train accuracy: 0.800000, val accuracy: 0.066667\n",
      "Loss: 3.598728, Train accuracy: 0.800000, val accuracy: 0.066667\n",
      "Loss: 6.815285, Train accuracy: 0.800000, val accuracy: 0.066667\n",
      "Loss: 1.414142, Train accuracy: 0.800000, val accuracy: 0.066667\n",
      "Loss: 2.715148, Train accuracy: 0.800000, val accuracy: 0.066667\n",
      "Loss: 3.188548, Train accuracy: 0.800000, val accuracy: 0.066667\n",
      "Loss: 5.106426, Train accuracy: 0.800000, val accuracy: 0.066667\n",
      "Loss: 1.748812, Train accuracy: 0.800000, val accuracy: 0.066667\n",
      "Loss: 3.507089, Train accuracy: 0.800000, val accuracy: 0.066667\n",
      "Loss: 1.255207, Train accuracy: 0.800000, val accuracy: 0.066667\n",
      "Loss: 4.629988, Train accuracy: 0.800000, val accuracy: 0.066667\n",
      "Loss: 1.526483, Train accuracy: 0.800000, val accuracy: 0.066667\n",
      "Loss: 2.784880, Train accuracy: 0.800000, val accuracy: 0.066667\n",
      "Loss: 2.781885, Train accuracy: 0.800000, val accuracy: 0.066667\n",
      "Loss: 2.981508, Train accuracy: 0.800000, val accuracy: 0.066667\n",
      "Loss: 3.486668, Train accuracy: 0.800000, val accuracy: 0.066667\n",
      "Loss: 4.349763, Train accuracy: 0.800000, val accuracy: 0.066667\n",
      "Loss: 2.635797, Train accuracy: 0.800000, val accuracy: 0.066667\n",
      "Loss: 1.612935, Train accuracy: 0.800000, val accuracy: 0.000000\n",
      "Loss: 3.492223, Train accuracy: 0.800000, val accuracy: 0.000000\n",
      "Loss: 3.992904, Train accuracy: 0.866667, val accuracy: 0.000000\n",
      "Loss: 3.287467, Train accuracy: 0.933333, val accuracy: 0.000000\n",
      "Loss: 3.384716, Train accuracy: 1.000000, val accuracy: 0.000000\n",
      "Loss: 3.445954, Train accuracy: 0.933333, val accuracy: 0.000000\n",
      "Loss: 4.884585, Train accuracy: 1.000000, val accuracy: 0.000000\n",
      "Loss: 3.783825, Train accuracy: 1.000000, val accuracy: 0.000000\n",
      "Loss: 1.414363, Train accuracy: 1.000000, val accuracy: 0.000000\n",
      "Loss: 2.529420, Train accuracy: 1.000000, val accuracy: 0.000000\n",
      "Loss: 1.569612, Train accuracy: 1.000000, val accuracy: 0.000000\n",
      "Loss: 2.433737, Train accuracy: 1.000000, val accuracy: 0.000000\n",
      "Loss: 2.664595, Train accuracy: 1.000000, val accuracy: 0.000000\n",
      "Loss: 1.654274, Train accuracy: 1.000000, val accuracy: 0.000000\n",
      "Loss: 1.711764, Train accuracy: 1.000000, val accuracy: 0.000000\n",
      "Loss: 3.292088, Train accuracy: 1.000000, val accuracy: 0.000000\n",
      "Loss: 1.383644, Train accuracy: 1.000000, val accuracy: 0.000000\n",
      "Loss: 3.270873, Train accuracy: 1.000000, val accuracy: 0.000000\n",
      "Loss: 2.256437, Train accuracy: 1.000000, val accuracy: 0.000000\n",
      "Loss: 3.402780, Train accuracy: 1.000000, val accuracy: 0.000000\n",
      "Loss: 2.241018, Train accuracy: 1.000000, val accuracy: 0.000000\n",
      "Loss: 1.645482, Train accuracy: 1.000000, val accuracy: 0.000000\n",
      "Loss: 2.923461, Train accuracy: 1.000000, val accuracy: 0.000000\n",
      "Loss: 2.097937, Train accuracy: 1.000000, val accuracy: 0.000000\n",
      "Loss: 2.652483, Train accuracy: 1.000000, val accuracy: 0.000000\n",
      "Loss: 3.187710, Train accuracy: 1.000000, val accuracy: 0.000000\n",
      "Loss: 2.596293, Train accuracy: 1.000000, val accuracy: 0.000000\n",
      "Loss: 1.628081, Train accuracy: 1.000000, val accuracy: 0.000000\n",
      "Loss: 1.953316, Train accuracy: 1.000000, val accuracy: 0.000000\n",
      "Loss: 2.302379, Train accuracy: 1.000000, val accuracy: 0.000000\n",
      "Loss: 1.665258, Train accuracy: 1.000000, val accuracy: 0.000000\n",
      "Loss: 1.710891, Train accuracy: 1.000000, val accuracy: 0.000000\n",
      "Loss: 2.280695, Train accuracy: 1.000000, val accuracy: 0.000000\n",
      "Loss: 1.883983, Train accuracy: 1.000000, val accuracy: 0.000000\n"
     ]
    },
    {
     "name": "stdout",
     "output_type": "stream",
     "text": [
      "Loss: 1.889321, Train accuracy: 1.000000, val accuracy: 0.000000\n",
      "Loss: 2.297418, Train accuracy: 1.000000, val accuracy: 0.000000\n",
      "Loss: 2.484135, Train accuracy: 1.000000, val accuracy: 0.000000\n",
      "Loss: 1.800108, Train accuracy: 1.000000, val accuracy: 0.000000\n",
      "Loss: 1.799833, Train accuracy: 1.000000, val accuracy: 0.000000\n",
      "Loss: 2.316741, Train accuracy: 1.000000, val accuracy: 0.000000\n",
      "Loss: 1.704908, Train accuracy: 1.000000, val accuracy: 0.000000\n",
      "Loss: 2.052020, Train accuracy: 1.000000, val accuracy: 0.000000\n",
      "Loss: 1.812520, Train accuracy: 1.000000, val accuracy: 0.000000\n",
      "Loss: 2.021386, Train accuracy: 1.000000, val accuracy: 0.000000\n",
      "Loss: 1.735045, Train accuracy: 1.000000, val accuracy: 0.000000\n",
      "Loss: 2.096308, Train accuracy: 1.000000, val accuracy: 0.000000\n",
      "Loss: 1.705630, Train accuracy: 1.000000, val accuracy: 0.000000\n",
      "Loss: 2.085549, Train accuracy: 1.000000, val accuracy: 0.000000\n",
      "Loss: 1.689349, Train accuracy: 1.000000, val accuracy: 0.000000\n",
      "Loss: 2.106584, Train accuracy: 1.000000, val accuracy: 0.000000\n",
      "Loss: 1.794688, Train accuracy: 1.000000, val accuracy: 0.000000\n",
      "Loss: 2.261505, Train accuracy: 1.000000, val accuracy: 0.000000\n",
      "Loss: 1.605515, Train accuracy: 1.000000, val accuracy: 0.000000\n",
      "Loss: 1.763872, Train accuracy: 1.000000, val accuracy: 0.000000\n",
      "Loss: 2.039059, Train accuracy: 1.000000, val accuracy: 0.000000\n",
      "Loss: 1.727433, Train accuracy: 1.000000, val accuracy: 0.000000\n",
      "Loss: 2.150881, Train accuracy: 1.000000, val accuracy: 0.000000\n",
      "Loss: 2.060517, Train accuracy: 1.000000, val accuracy: 0.000000\n"
     ]
    }
   ],
   "source": [
    "data_size = 15\n",
    "model = TwoLayerNet(n_input = train_X.shape[1], n_output = 10, hidden_layer_size = 100, reg = 1e-1)\n",
    "dataset = Dataset(train_X[:data_size], train_y[:data_size], val_X[:data_size], val_y[:data_size])\n",
    "trainer = Trainer(model, dataset, SGD(), learning_rate=1e-2, num_epochs=150, batch_size=5)\n",
    "\n",
    "# You should expect this to reach 1.0 training accuracy\n",
    "loss_history, train_history, val_history = trainer.fit()"
   ]
  },
  {
   "cell_type": "markdown",
   "metadata": {},
   "source": [
    "Теперь найдем гипепараметры, для которых этот процесс сходится быстрее.\n",
    "Если все реализовано корректно, то существуют параметры, при которых процесс сходится в **20** эпох или еще быстрее.\n",
    "Найдите их!"
   ]
  },
  {
   "cell_type": "code",
   "execution_count": 35,
   "metadata": {},
   "outputs": [
    {
     "name": "stdout",
     "output_type": "stream",
     "text": [
      "Loss: 11.557079, Train accuracy: 0.200000, val accuracy: 0.133333\n",
      "Loss: 11.501244, Train accuracy: 0.200000, val accuracy: 0.133333\n",
      "Loss: 11.657195, Train accuracy: 0.200000, val accuracy: 0.133333\n",
      "Loss: 11.171582, Train accuracy: 0.200000, val accuracy: 0.133333\n",
      "Loss: 11.303353, Train accuracy: 0.266667, val accuracy: 0.000000\n",
      "Loss: 9.306839, Train accuracy: 0.400000, val accuracy: 0.000000\n",
      "Loss: 10.010485, Train accuracy: 0.400000, val accuracy: 0.000000\n",
      "Loss: 5.452393, Train accuracy: 0.400000, val accuracy: 0.000000\n",
      "Loss: 8.110667, Train accuracy: 0.466667, val accuracy: 0.000000\n",
      "Loss: 6.568125, Train accuracy: 0.466667, val accuracy: 0.000000\n",
      "Loss: 8.114258, Train accuracy: 0.466667, val accuracy: 0.066667\n",
      "Loss: 6.406370, Train accuracy: 0.666667, val accuracy: 0.133333\n",
      "Loss: 6.460921, Train accuracy: 0.666667, val accuracy: 0.066667\n",
      "Loss: 6.171650, Train accuracy: 0.600000, val accuracy: 0.066667\n",
      "Loss: 6.056309, Train accuracy: 0.800000, val accuracy: 0.066667\n",
      "Loss: 6.507853, Train accuracy: 0.800000, val accuracy: 0.000000\n",
      "Loss: 3.047093, Train accuracy: 0.800000, val accuracy: 0.000000\n",
      "Loss: 3.393206, Train accuracy: 0.866667, val accuracy: 0.066667\n",
      "Loss: 3.745097, Train accuracy: 1.000000, val accuracy: 0.066667\n",
      "Loss: 3.025216, Train accuracy: 1.000000, val accuracy: 0.000000\n"
     ]
    }
   ],
   "source": [
    "# Now, tweak some hyper parameters and make it train to 1.0 accuracy in 20 epochs or less\n",
    "\n",
    "model = TwoLayerNet(n_input = train_X.shape[1], n_output = 10, hidden_layer_size = 100, reg = 1e-1)\n",
    "dataset = Dataset(train_X[:data_size], train_y[:data_size], val_X[:data_size], val_y[:data_size])\n",
    "# TODO: Change any hyperparamers or optimizators to reach training accuracy in 20 epochs\n",
    "trainer = Trainer(model, dataset, MomentumSGD(), learning_rate=1e-2, num_epochs=20, batch_size=5)\n",
    "\n",
    "loss_history, train_history, val_history = trainer.fit()"
   ]
  },
  {
   "cell_type": "markdown",
   "metadata": {},
   "source": [
    "# Итак, основное мероприятие!\n",
    "\n",
    "Натренируйте лучшую нейросеть! Можно добавлять и изменять параметры, менять количество нейронов в слоях сети и как угодно экспериментировать. \n",
    "\n",
    "Добейтесь точности лучше **60%** на validation set."
   ]
  },
  {
   "cell_type": "code",
   "execution_count": 36,
   "metadata": {
    "scrolled": true
   },
   "outputs": [
    {
     "ename": "TypeError",
     "evalue": "must be real number, not NoneType",
     "output_type": "error",
     "traceback": [
      "\u001b[0;31m---------------------------------------------------------------------------\u001b[0m",
      "\u001b[0;31mTypeError\u001b[0m                                 Traceback (most recent call last)",
      "\u001b[0;32m<ipython-input-36-167b1f217e7a>\u001b[0m in \u001b[0;36m<module>\u001b[0;34m\u001b[0m\n\u001b[1;32m     20\u001b[0m \u001b[0;31m# Save loss/train/history of the best classifier to the variables above\u001b[0m\u001b[0;34m\u001b[0m\u001b[0;34m\u001b[0m\u001b[0;34m\u001b[0m\u001b[0m\n\u001b[1;32m     21\u001b[0m \u001b[0;34m\u001b[0m\u001b[0m\n\u001b[0;32m---> 22\u001b[0;31m \u001b[0mprint\u001b[0m\u001b[0;34m(\u001b[0m\u001b[0;34m'best validation accuracy achieved: %f'\u001b[0m \u001b[0;34m%\u001b[0m \u001b[0mbest_val_accuracy\u001b[0m\u001b[0;34m)\u001b[0m\u001b[0;34m\u001b[0m\u001b[0;34m\u001b[0m\u001b[0m\n\u001b[0m",
      "\u001b[0;31mTypeError\u001b[0m: must be real number, not NoneType"
     ]
    }
   ],
   "source": [
    "# Let's train the best one-hidden-layer network we can\n",
    "\n",
    "learning_rates = 1e-4\n",
    "reg_strength = 1e-3\n",
    "learning_rate_decay = 0.999\n",
    "hidden_layer_size = 128\n",
    "num_epochs = 200\n",
    "batch_size = 64\n",
    "\n",
    "best_classifier = None\n",
    "best_val_accuracy = None\n",
    "\n",
    "loss_history = []\n",
    "train_history = []\n",
    "val_history = []\n",
    "\n",
    "# TODO find the best hyperparameters to train the network\n",
    "# Don't hesitate to add new values to the arrays above, perform experiments, use any tricks you want\n",
    "# You should expect to get to at least 40% of valudation accuracy\n",
    "# Save loss/train/history of the best classifier to the variables above\n",
    "\n",
    "print('best validation accuracy achieved: %f' % best_val_accuracy)"
   ]
  },
  {
   "cell_type": "code",
   "execution_count": null,
   "metadata": {},
   "outputs": [],
   "source": [
    "plt.figure(figsize=(15, 7))\n",
    "plt.subplot(211)\n",
    "plt.title(\"Loss\")\n",
    "plt.plot(loss_history)\n",
    "plt.subplot(212)\n",
    "plt.title(\"Train/validation accuracy\")\n",
    "plt.plot(train_history)\n",
    "plt.plot(val_history)"
   ]
  },
  {
   "cell_type": "markdown",
   "metadata": {},
   "source": [
    "# Как обычно, посмотрим, как наша лучшая модель работает на тестовых данных"
   ]
  },
  {
   "cell_type": "code",
   "execution_count": null,
   "metadata": {},
   "outputs": [],
   "source": [
    "test_pred = best_classifier.predict(test_X)\n",
    "test_accuracy = multiclass_accuracy(test_pred, test_y)\n",
    "print('Neural net test set accuracy: %f' % (test_accuracy, ))"
   ]
  }
 ],
 "metadata": {
  "kernelspec": {
   "display_name": "Python 3",
   "language": "python",
   "name": "python3"
  },
  "language_info": {
   "codemirror_mode": {
    "name": "ipython",
    "version": 3
   },
   "file_extension": ".py",
   "mimetype": "text/x-python",
   "name": "python",
   "nbconvert_exporter": "python",
   "pygments_lexer": "ipython3",
   "version": "3.7.3"
  },
  "pycharm": {
   "stem_cell": {
    "cell_type": "raw",
    "metadata": {
     "collapsed": false
    },
    "source": []
   }
  }
 },
 "nbformat": 4,
 "nbformat_minor": 2
}
